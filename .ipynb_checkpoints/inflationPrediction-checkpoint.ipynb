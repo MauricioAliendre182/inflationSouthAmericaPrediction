{
 "cells": [
  {
   "cell_type": "markdown",
   "id": "90ebc120",
   "metadata": {},
   "source": [
    "# Inflation in Latin America"
   ]
  },
  {
   "cell_type": "markdown",
   "id": "bd744166",
   "metadata": {},
   "source": [
    "The data was takes from Kaggle: https://www.kaggle.com/datasets/jaforero/inflation-ipc-in-latam"
   ]
  },
  {
   "cell_type": "markdown",
   "id": "eb919a46",
   "metadata": {},
   "source": [
    "## Import Libraries"
   ]
  },
  {
   "cell_type": "code",
   "execution_count": 1,
   "id": "52919cf7",
   "metadata": {},
   "outputs": [],
   "source": [
    "#!pip install category-encoders"
   ]
  },
  {
   "cell_type": "code",
   "execution_count": 2,
   "id": "74283085",
   "metadata": {},
   "outputs": [],
   "source": [
    "# Import the libraries\n",
    "import numpy as np\n",
    "import pandas as pd\n",
    "import matplotlib.pyplot as plt\n",
    "import seaborn as sns\n",
    "import sklearn.impute\n",
    "import janitor\n",
    "import category_encoders as ce\n",
    "from sklearn.model_selection import train_test_split\n",
    "from sklearn.model_selection import GridSearchCV\n",
    "from sklearn.metrics import mean_squared_error, r2_score\n",
    "from sklearn.preprocessing import MinMaxScaler\n",
    "from sklearn.tree import DecisionTreeRegressor\n",
    "import joblib\n",
    "import warnings\n",
    "\n",
    "warnings.filterwarnings('ignore')"
   ]
  },
  {
   "cell_type": "code",
   "execution_count": 3,
   "id": "8b5f41df",
   "metadata": {},
   "outputs": [],
   "source": [
    "%run pandas-missing-extension.ipynb"
   ]
  },
  {
   "cell_type": "markdown",
   "id": "42d88c51",
   "metadata": {},
   "source": [
    "## Upload the dataset to use"
   ]
  },
  {
   "cell_type": "code",
   "execution_count": 4,
   "id": "3968e4e2",
   "metadata": {
    "scrolled": true
   },
   "outputs": [
    {
     "data": {
      "text/html": [
       "<div>\n",
       "<style scoped>\n",
       "    .dataframe tbody tr th:only-of-type {\n",
       "        vertical-align: middle;\n",
       "    }\n",
       "\n",
       "    .dataframe tbody tr th {\n",
       "        vertical-align: top;\n",
       "    }\n",
       "\n",
       "    .dataframe thead th {\n",
       "        text-align: right;\n",
       "    }\n",
       "</style>\n",
       "<table border=\"1\" class=\"dataframe\">\n",
       "  <thead>\n",
       "    <tr style=\"text-align: right;\">\n",
       "      <th></th>\n",
       "      <th>País</th>\n",
       "      <th>Año</th>\n",
       "      <th>Link</th>\n",
       "      <th>Fuentes</th>\n",
       "      <th>Inflación Anual</th>\n",
       "    </tr>\n",
       "  </thead>\n",
       "  <tbody>\n",
       "    <tr>\n",
       "      <th>0</th>\n",
       "      <td>Ecuador</td>\n",
       "      <td>2022</td>\n",
       "      <td>https://www.ecuadorencifras.gob.ec//indice-de-...</td>\n",
       "      <td>Banco Ecuador</td>\n",
       "      <td>3.74%</td>\n",
       "    </tr>\n",
       "    <tr>\n",
       "      <th>1</th>\n",
       "      <td>El Salvador</td>\n",
       "      <td>2022</td>\n",
       "      <td>http://www.bcr.gob.sv/bcrsite/?x21=73&amp;lang=es</td>\n",
       "      <td>Banco del Salvador</td>\n",
       "      <td>7.32%</td>\n",
       "    </tr>\n",
       "    <tr>\n",
       "      <th>2</th>\n",
       "      <td>Panamá</td>\n",
       "      <td>2022</td>\n",
       "      <td>http://www.contraloria.gob.pa/inec/</td>\n",
       "      <td>INEC</td>\n",
       "      <td>2.90%</td>\n",
       "    </tr>\n",
       "    <tr>\n",
       "      <th>3</th>\n",
       "      <td>Rep. Dominicana</td>\n",
       "      <td>2022</td>\n",
       "      <td>http://www.bancentral.gov.do/</td>\n",
       "      <td>Banco Central</td>\n",
       "      <td>7.83%</td>\n",
       "    </tr>\n",
       "    <tr>\n",
       "      <th>4</th>\n",
       "      <td>Bolivia</td>\n",
       "      <td>2022</td>\n",
       "      <td>https://www.bcb.gob.bo/?q=indicadores_inflacion</td>\n",
       "      <td>Banco Central</td>\n",
       "      <td>3.12%</td>\n",
       "    </tr>\n",
       "    <tr>\n",
       "      <th>...</th>\n",
       "      <td>...</td>\n",
       "      <td>...</td>\n",
       "      <td>...</td>\n",
       "      <td>...</td>\n",
       "      <td>...</td>\n",
       "    </tr>\n",
       "    <tr>\n",
       "      <th>279</th>\n",
       "      <td>Colombia</td>\n",
       "      <td>2007</td>\n",
       "      <td>http://www.dane.gov.co/</td>\n",
       "      <td>DANE</td>\n",
       "      <td>5.70%</td>\n",
       "    </tr>\n",
       "    <tr>\n",
       "      <th>280</th>\n",
       "      <td>Uruguay</td>\n",
       "      <td>2007</td>\n",
       "      <td>http://www.ine.gub.uy/Default.asp</td>\n",
       "      <td>INE</td>\n",
       "      <td>8.50%</td>\n",
       "    </tr>\n",
       "    <tr>\n",
       "      <th>281</th>\n",
       "      <td>Brasil</td>\n",
       "      <td>2007</td>\n",
       "      <td>http://www.bcb.gov.br/pec/metas/tabelametasere...</td>\n",
       "      <td>Banco de Brasil</td>\n",
       "      <td>4.50%</td>\n",
       "    </tr>\n",
       "    <tr>\n",
       "      <th>282</th>\n",
       "      <td>Argentina</td>\n",
       "      <td>2007</td>\n",
       "      <td>http://www.indec.mecon.ar/nivel4_default.asp?i...</td>\n",
       "      <td>INDEC</td>\n",
       "      <td>8.50%</td>\n",
       "    </tr>\n",
       "    <tr>\n",
       "      <th>283</th>\n",
       "      <td>Venezuela</td>\n",
       "      <td>2007</td>\n",
       "      <td>http://www.ine.gov.ve/index.php?option=com_con...</td>\n",
       "      <td>INE</td>\n",
       "      <td>22.50%</td>\n",
       "    </tr>\n",
       "  </tbody>\n",
       "</table>\n",
       "<p>284 rows × 5 columns</p>\n",
       "</div>"
      ],
      "text/plain": [
       "                País   Año                                               Link  \\\n",
       "0           Ecuador   2022  https://www.ecuadorencifras.gob.ec//indice-de-...   \n",
       "1        El Salvador  2022      http://www.bcr.gob.sv/bcrsite/?x21=73&lang=es   \n",
       "2             Panamá  2022                http://www.contraloria.gob.pa/inec/   \n",
       "3    Rep. Dominicana  2022                      http://www.bancentral.gov.do/   \n",
       "4            Bolivia  2022    https://www.bcb.gob.bo/?q=indicadores_inflacion   \n",
       "..               ...   ...                                                ...   \n",
       "279        Colombia   2007                            http://www.dane.gov.co/   \n",
       "280         Uruguay   2007                  http://www.ine.gub.uy/Default.asp   \n",
       "281          Brasil   2007  http://www.bcb.gov.br/pec/metas/tabelametasere...   \n",
       "282       Argentina   2007  http://www.indec.mecon.ar/nivel4_default.asp?i...   \n",
       "283        Venezuela  2007  http://www.ine.gov.ve/index.php?option=com_con...   \n",
       "\n",
       "                Fuentes Inflación Anual  \n",
       "0         Banco Ecuador           3.74%  \n",
       "1    Banco del Salvador           7.32%  \n",
       "2                  INEC           2.90%  \n",
       "3         Banco Central           7.83%  \n",
       "4         Banco Central           3.12%  \n",
       "..                  ...             ...  \n",
       "279                DANE           5.70%  \n",
       "280                 INE           8.50%  \n",
       "281     Banco de Brasil           4.50%  \n",
       "282               INDEC           8.50%  \n",
       "283                 INE          22.50%  \n",
       "\n",
       "[284 rows x 5 columns]"
      ]
     },
     "execution_count": 4,
     "metadata": {},
     "output_type": "execute_result"
    }
   ],
   "source": [
    "df_inflation = pd.read_csv('Inflation.csv')\n",
    "df_inflation"
   ]
  },
  {
   "cell_type": "markdown",
   "id": "d0d4597d",
   "metadata": {},
   "source": [
    "## EDA"
   ]
  },
  {
   "cell_type": "code",
   "execution_count": 5,
   "id": "a3895102",
   "metadata": {},
   "outputs": [
    {
     "name": "stdout",
     "output_type": "stream",
     "text": [
      "(284, 5)\n"
     ]
    }
   ],
   "source": [
    "print(df_inflation.shape)"
   ]
  },
  {
   "cell_type": "code",
   "execution_count": 6,
   "id": "3fcb3b28",
   "metadata": {},
   "outputs": [
    {
     "name": "stdout",
     "output_type": "stream",
     "text": [
      "País               object\n",
      "Año                 int64\n",
      "Link               object\n",
      "Fuentes            object\n",
      "Inflación Anual    object\n",
      "dtype: object\n"
     ]
    }
   ],
   "source": [
    "print(df_inflation.dtypes)"
   ]
  },
  {
   "cell_type": "code",
   "execution_count": 7,
   "id": "b465c6c2",
   "metadata": {
    "scrolled": false
   },
   "outputs": [
    {
     "data": {
      "text/html": [
       "<div>\n",
       "<style scoped>\n",
       "    .dataframe tbody tr th:only-of-type {\n",
       "        vertical-align: middle;\n",
       "    }\n",
       "\n",
       "    .dataframe tbody tr th {\n",
       "        vertical-align: top;\n",
       "    }\n",
       "\n",
       "    .dataframe thead th {\n",
       "        text-align: right;\n",
       "    }\n",
       "</style>\n",
       "<table border=\"1\" class=\"dataframe\">\n",
       "  <thead>\n",
       "    <tr style=\"text-align: right;\">\n",
       "      <th></th>\n",
       "      <th>variable</th>\n",
       "      <th>n_missing</th>\n",
       "      <th>n_cases</th>\n",
       "      <th>pct_missing</th>\n",
       "    </tr>\n",
       "  </thead>\n",
       "  <tbody>\n",
       "    <tr>\n",
       "      <th>0</th>\n",
       "      <td>País</td>\n",
       "      <td>0</td>\n",
       "      <td>284</td>\n",
       "      <td>0.000000</td>\n",
       "    </tr>\n",
       "    <tr>\n",
       "      <th>1</th>\n",
       "      <td>Año</td>\n",
       "      <td>0</td>\n",
       "      <td>284</td>\n",
       "      <td>0.000000</td>\n",
       "    </tr>\n",
       "    <tr>\n",
       "      <th>2</th>\n",
       "      <td>Link</td>\n",
       "      <td>1</td>\n",
       "      <td>284</td>\n",
       "      <td>0.352113</td>\n",
       "    </tr>\n",
       "    <tr>\n",
       "      <th>3</th>\n",
       "      <td>Fuentes</td>\n",
       "      <td>1</td>\n",
       "      <td>284</td>\n",
       "      <td>0.352113</td>\n",
       "    </tr>\n",
       "    <tr>\n",
       "      <th>4</th>\n",
       "      <td>Inflación Anual</td>\n",
       "      <td>1</td>\n",
       "      <td>284</td>\n",
       "      <td>0.352113</td>\n",
       "    </tr>\n",
       "  </tbody>\n",
       "</table>\n",
       "</div>"
      ],
      "text/plain": [
       "          variable  n_missing  n_cases  pct_missing\n",
       "0             País          0      284     0.000000\n",
       "1              Año          0      284     0.000000\n",
       "2             Link          1      284     0.352113\n",
       "3          Fuentes          1      284     0.352113\n",
       "4  Inflación Anual          1      284     0.352113"
      ]
     },
     "execution_count": 7,
     "metadata": {},
     "output_type": "execute_result"
    }
   ],
   "source": [
    "# Verify if we have null values\n",
    "df_inflation.missing.missing_variable_summary()"
   ]
  },
  {
   "cell_type": "markdown",
   "id": "45c00c7b",
   "metadata": {},
   "source": [
    "## Drop the unnecessary column"
   ]
  },
  {
   "cell_type": "code",
   "execution_count": 8,
   "id": "daabec94",
   "metadata": {
    "scrolled": true
   },
   "outputs": [
    {
     "data": {
      "text/html": [
       "<div>\n",
       "<style scoped>\n",
       "    .dataframe tbody tr th:only-of-type {\n",
       "        vertical-align: middle;\n",
       "    }\n",
       "\n",
       "    .dataframe tbody tr th {\n",
       "        vertical-align: top;\n",
       "    }\n",
       "\n",
       "    .dataframe thead th {\n",
       "        text-align: right;\n",
       "    }\n",
       "</style>\n",
       "<table border=\"1\" class=\"dataframe\">\n",
       "  <thead>\n",
       "    <tr style=\"text-align: right;\">\n",
       "      <th></th>\n",
       "      <th>País</th>\n",
       "      <th>Año</th>\n",
       "      <th>Fuentes</th>\n",
       "      <th>Inflación Anual</th>\n",
       "    </tr>\n",
       "  </thead>\n",
       "  <tbody>\n",
       "    <tr>\n",
       "      <th>0</th>\n",
       "      <td>Ecuador</td>\n",
       "      <td>2022</td>\n",
       "      <td>Banco Ecuador</td>\n",
       "      <td>3.74%</td>\n",
       "    </tr>\n",
       "    <tr>\n",
       "      <th>1</th>\n",
       "      <td>El Salvador</td>\n",
       "      <td>2022</td>\n",
       "      <td>Banco del Salvador</td>\n",
       "      <td>7.32%</td>\n",
       "    </tr>\n",
       "    <tr>\n",
       "      <th>2</th>\n",
       "      <td>Panamá</td>\n",
       "      <td>2022</td>\n",
       "      <td>INEC</td>\n",
       "      <td>2.90%</td>\n",
       "    </tr>\n",
       "    <tr>\n",
       "      <th>3</th>\n",
       "      <td>Rep. Dominicana</td>\n",
       "      <td>2022</td>\n",
       "      <td>Banco Central</td>\n",
       "      <td>7.83%</td>\n",
       "    </tr>\n",
       "    <tr>\n",
       "      <th>4</th>\n",
       "      <td>Bolivia</td>\n",
       "      <td>2022</td>\n",
       "      <td>Banco Central</td>\n",
       "      <td>3.12%</td>\n",
       "    </tr>\n",
       "  </tbody>\n",
       "</table>\n",
       "</div>"
      ],
      "text/plain": [
       "              País   Año             Fuentes Inflación Anual\n",
       "0         Ecuador   2022       Banco Ecuador           3.74%\n",
       "1      El Salvador  2022  Banco del Salvador           7.32%\n",
       "2           Panamá  2022                INEC           2.90%\n",
       "3  Rep. Dominicana  2022       Banco Central           7.83%\n",
       "4          Bolivia  2022       Banco Central           3.12%"
      ]
     },
     "execution_count": 8,
     "metadata": {},
     "output_type": "execute_result"
    }
   ],
   "source": [
    "df_inflation.drop('Link', inplace=True, axis=1)\n",
    "df_inflation.head()"
   ]
  },
  {
   "cell_type": "markdown",
   "id": "b13bd1c6",
   "metadata": {},
   "source": [
    "## Transform the columns"
   ]
  },
  {
   "cell_type": "code",
   "execution_count": 9,
   "id": "ab44f8c9",
   "metadata": {},
   "outputs": [],
   "source": [
    "# Changing the columns names\n",
    "df_inflation.columns = ['country', 'year', 'source', 'inflation']"
   ]
  },
  {
   "cell_type": "code",
   "execution_count": 10,
   "id": "9dfe2830",
   "metadata": {
    "scrolled": true
   },
   "outputs": [
    {
     "data": {
      "text/html": [
       "<div>\n",
       "<style scoped>\n",
       "    .dataframe tbody tr th:only-of-type {\n",
       "        vertical-align: middle;\n",
       "    }\n",
       "\n",
       "    .dataframe tbody tr th {\n",
       "        vertical-align: top;\n",
       "    }\n",
       "\n",
       "    .dataframe thead th {\n",
       "        text-align: right;\n",
       "    }\n",
       "</style>\n",
       "<table border=\"1\" class=\"dataframe\">\n",
       "  <thead>\n",
       "    <tr style=\"text-align: right;\">\n",
       "      <th></th>\n",
       "      <th>country</th>\n",
       "      <th>year</th>\n",
       "      <th>source</th>\n",
       "      <th>inflation</th>\n",
       "    </tr>\n",
       "  </thead>\n",
       "  <tbody>\n",
       "    <tr>\n",
       "      <th>0</th>\n",
       "      <td>Ecuador</td>\n",
       "      <td>2022</td>\n",
       "      <td>Banco Ecuador</td>\n",
       "      <td>3.74%</td>\n",
       "    </tr>\n",
       "    <tr>\n",
       "      <th>1</th>\n",
       "      <td>El Salvador</td>\n",
       "      <td>2022</td>\n",
       "      <td>Banco del Salvador</td>\n",
       "      <td>7.32%</td>\n",
       "    </tr>\n",
       "    <tr>\n",
       "      <th>2</th>\n",
       "      <td>Panamá</td>\n",
       "      <td>2022</td>\n",
       "      <td>INEC</td>\n",
       "      <td>2.90%</td>\n",
       "    </tr>\n",
       "    <tr>\n",
       "      <th>3</th>\n",
       "      <td>Rep. Dominicana</td>\n",
       "      <td>2022</td>\n",
       "      <td>Banco Central</td>\n",
       "      <td>7.83%</td>\n",
       "    </tr>\n",
       "    <tr>\n",
       "      <th>4</th>\n",
       "      <td>Bolivia</td>\n",
       "      <td>2022</td>\n",
       "      <td>Banco Central</td>\n",
       "      <td>3.12%</td>\n",
       "    </tr>\n",
       "  </tbody>\n",
       "</table>\n",
       "</div>"
      ],
      "text/plain": [
       "           country  year              source inflation\n",
       "0         Ecuador   2022       Banco Ecuador     3.74%\n",
       "1      El Salvador  2022  Banco del Salvador     7.32%\n",
       "2           Panamá  2022                INEC     2.90%\n",
       "3  Rep. Dominicana  2022       Banco Central     7.83%\n",
       "4          Bolivia  2022       Banco Central     3.12%"
      ]
     },
     "execution_count": 10,
     "metadata": {},
     "output_type": "execute_result"
    }
   ],
   "source": [
    "df_inflation.head()"
   ]
  },
  {
   "cell_type": "markdown",
   "id": "9b7a1165",
   "metadata": {},
   "source": [
    "**Some countries have white spaces at the end**"
   ]
  },
  {
   "cell_type": "code",
   "execution_count": 11,
   "id": "6fe374f4",
   "metadata": {},
   "outputs": [],
   "source": [
    "df_inflation['country'] = df_inflation['country'].str.strip()"
   ]
  },
  {
   "cell_type": "code",
   "execution_count": 12,
   "id": "e51a8ae4",
   "metadata": {},
   "outputs": [
    {
     "data": {
      "text/plain": [
       "array(['Ecuador', 'El Salvador', 'Panamá', 'Rep. Dominicana', 'Bolivia',\n",
       "       'Costa Rica', 'Perú', 'Guatemala', 'Chile', 'Colombia', 'Paraguay',\n",
       "       'Brasil', 'Nicaragua', 'Honduras', 'México', 'Uruguay',\n",
       "       'Argentina', 'Venezuela'], dtype=object)"
      ]
     },
     "execution_count": 12,
     "metadata": {},
     "output_type": "execute_result"
    }
   ],
   "source": [
    "df_inflation['country'].unique()"
   ]
  },
  {
   "cell_type": "code",
   "execution_count": 13,
   "id": "ae3e2533",
   "metadata": {},
   "outputs": [],
   "source": [
    "# Create a variable which contains the columns names\n",
    "encoder = ce.OrdinalEncoder(cols = ['country','source'])\n",
    "\n",
    "df_inflation_enc = encoder.fit_transform(df_inflation)"
   ]
  },
  {
   "cell_type": "code",
   "execution_count": 14,
   "id": "0f7771ec",
   "metadata": {},
   "outputs": [
    {
     "data": {
      "text/html": [
       "<div>\n",
       "<style scoped>\n",
       "    .dataframe tbody tr th:only-of-type {\n",
       "        vertical-align: middle;\n",
       "    }\n",
       "\n",
       "    .dataframe tbody tr th {\n",
       "        vertical-align: top;\n",
       "    }\n",
       "\n",
       "    .dataframe thead th {\n",
       "        text-align: right;\n",
       "    }\n",
       "</style>\n",
       "<table border=\"1\" class=\"dataframe\">\n",
       "  <thead>\n",
       "    <tr style=\"text-align: right;\">\n",
       "      <th></th>\n",
       "      <th>country</th>\n",
       "      <th>year</th>\n",
       "      <th>source</th>\n",
       "      <th>inflation</th>\n",
       "    </tr>\n",
       "  </thead>\n",
       "  <tbody>\n",
       "    <tr>\n",
       "      <th>0</th>\n",
       "      <td>1</td>\n",
       "      <td>2022</td>\n",
       "      <td>1</td>\n",
       "      <td>3.74%</td>\n",
       "    </tr>\n",
       "    <tr>\n",
       "      <th>1</th>\n",
       "      <td>2</td>\n",
       "      <td>2022</td>\n",
       "      <td>2</td>\n",
       "      <td>7.32%</td>\n",
       "    </tr>\n",
       "    <tr>\n",
       "      <th>2</th>\n",
       "      <td>3</td>\n",
       "      <td>2022</td>\n",
       "      <td>3</td>\n",
       "      <td>2.90%</td>\n",
       "    </tr>\n",
       "    <tr>\n",
       "      <th>3</th>\n",
       "      <td>4</td>\n",
       "      <td>2022</td>\n",
       "      <td>4</td>\n",
       "      <td>7.83%</td>\n",
       "    </tr>\n",
       "    <tr>\n",
       "      <th>4</th>\n",
       "      <td>5</td>\n",
       "      <td>2022</td>\n",
       "      <td>4</td>\n",
       "      <td>3.12%</td>\n",
       "    </tr>\n",
       "    <tr>\n",
       "      <th>...</th>\n",
       "      <td>...</td>\n",
       "      <td>...</td>\n",
       "      <td>...</td>\n",
       "      <td>...</td>\n",
       "    </tr>\n",
       "    <tr>\n",
       "      <th>279</th>\n",
       "      <td>10</td>\n",
       "      <td>2007</td>\n",
       "      <td>9</td>\n",
       "      <td>5.70%</td>\n",
       "    </tr>\n",
       "    <tr>\n",
       "      <th>280</th>\n",
       "      <td>16</td>\n",
       "      <td>2007</td>\n",
       "      <td>8</td>\n",
       "      <td>8.50%</td>\n",
       "    </tr>\n",
       "    <tr>\n",
       "      <th>281</th>\n",
       "      <td>12</td>\n",
       "      <td>2007</td>\n",
       "      <td>11</td>\n",
       "      <td>4.50%</td>\n",
       "    </tr>\n",
       "    <tr>\n",
       "      <th>282</th>\n",
       "      <td>17</td>\n",
       "      <td>2007</td>\n",
       "      <td>19</td>\n",
       "      <td>8.50%</td>\n",
       "    </tr>\n",
       "    <tr>\n",
       "      <th>283</th>\n",
       "      <td>18</td>\n",
       "      <td>2007</td>\n",
       "      <td>8</td>\n",
       "      <td>22.50%</td>\n",
       "    </tr>\n",
       "  </tbody>\n",
       "</table>\n",
       "<p>284 rows × 4 columns</p>\n",
       "</div>"
      ],
      "text/plain": [
       "     country  year  source inflation\n",
       "0          1  2022       1     3.74%\n",
       "1          2  2022       2     7.32%\n",
       "2          3  2022       3     2.90%\n",
       "3          4  2022       4     7.83%\n",
       "4          5  2022       4     3.12%\n",
       "..       ...   ...     ...       ...\n",
       "279       10  2007       9     5.70%\n",
       "280       16  2007       8     8.50%\n",
       "281       12  2007      11     4.50%\n",
       "282       17  2007      19     8.50%\n",
       "283       18  2007       8    22.50%\n",
       "\n",
       "[284 rows x 4 columns]"
      ]
     },
     "execution_count": 14,
     "metadata": {},
     "output_type": "execute_result"
    }
   ],
   "source": [
    "df_inflation_enc"
   ]
  },
  {
   "cell_type": "code",
   "execution_count": 15,
   "id": "a6ee294f",
   "metadata": {},
   "outputs": [
    {
     "data": {
      "text/html": [
       "<div>\n",
       "<style scoped>\n",
       "    .dataframe tbody tr th:only-of-type {\n",
       "        vertical-align: middle;\n",
       "    }\n",
       "\n",
       "    .dataframe tbody tr th {\n",
       "        vertical-align: top;\n",
       "    }\n",
       "\n",
       "    .dataframe thead th {\n",
       "        text-align: right;\n",
       "    }\n",
       "</style>\n",
       "<table border=\"1\" class=\"dataframe\">\n",
       "  <thead>\n",
       "    <tr style=\"text-align: right;\">\n",
       "      <th></th>\n",
       "      <th>country</th>\n",
       "      <th>year</th>\n",
       "      <th>source</th>\n",
       "      <th>inflation</th>\n",
       "    </tr>\n",
       "  </thead>\n",
       "  <tbody>\n",
       "    <tr>\n",
       "      <th>0</th>\n",
       "      <td>1</td>\n",
       "      <td>2022</td>\n",
       "      <td>1</td>\n",
       "      <td>3.74%</td>\n",
       "    </tr>\n",
       "    <tr>\n",
       "      <th>1</th>\n",
       "      <td>2</td>\n",
       "      <td>2022</td>\n",
       "      <td>2</td>\n",
       "      <td>7.32%</td>\n",
       "    </tr>\n",
       "    <tr>\n",
       "      <th>2</th>\n",
       "      <td>3</td>\n",
       "      <td>2022</td>\n",
       "      <td>3</td>\n",
       "      <td>2.90%</td>\n",
       "    </tr>\n",
       "    <tr>\n",
       "      <th>3</th>\n",
       "      <td>4</td>\n",
       "      <td>2022</td>\n",
       "      <td>4</td>\n",
       "      <td>7.83%</td>\n",
       "    </tr>\n",
       "    <tr>\n",
       "      <th>4</th>\n",
       "      <td>5</td>\n",
       "      <td>2022</td>\n",
       "      <td>4</td>\n",
       "      <td>3.12%</td>\n",
       "    </tr>\n",
       "  </tbody>\n",
       "</table>\n",
       "</div>"
      ],
      "text/plain": [
       "   country  year  source inflation\n",
       "0        1  2022       1     3.74%\n",
       "1        2  2022       2     7.32%\n",
       "2        3  2022       3     2.90%\n",
       "3        4  2022       4     7.83%\n",
       "4        5  2022       4     3.12%"
      ]
     },
     "execution_count": 15,
     "metadata": {},
     "output_type": "execute_result"
    }
   ],
   "source": [
    "df_inflation_enc.head()"
   ]
  },
  {
   "cell_type": "code",
   "execution_count": 16,
   "id": "f1a16c9e",
   "metadata": {},
   "outputs": [],
   "source": [
    "df_inflation_enc[['inflation']] = pd.DataFrame(\n",
    "    ( \n",
    "    df_inflation_enc['inflation']\n",
    "    .astype('str')\n",
    "    .apply(\n",
    "        lambda x: x.replace('%', '')\n",
    "    )\n",
    "    .astype('float')\n",
    ")\n",
    ")"
   ]
  },
  {
   "cell_type": "code",
   "execution_count": 17,
   "id": "f0e3fdb6",
   "metadata": {
    "scrolled": true
   },
   "outputs": [
    {
     "name": "stdout",
     "output_type": "stream",
     "text": [
      "<class 'pandas.core.frame.DataFrame'>\n",
      "RangeIndex: 284 entries, 0 to 283\n",
      "Data columns (total 4 columns):\n",
      " #   Column     Non-Null Count  Dtype  \n",
      "---  ------     --------------  -----  \n",
      " 0   country    284 non-null    int32  \n",
      " 1   year       284 non-null    int64  \n",
      " 2   source     284 non-null    int32  \n",
      " 3   inflation  283 non-null    float64\n",
      "dtypes: float64(1), int32(2), int64(1)\n",
      "memory usage: 6.8 KB\n"
     ]
    }
   ],
   "source": [
    "df_inflation_enc.info()"
   ]
  },
  {
   "cell_type": "markdown",
   "id": "573ef761",
   "metadata": {},
   "source": [
    "## Watching the distributions"
   ]
  },
  {
   "cell_type": "code",
   "execution_count": 18,
   "id": "db6d4be9",
   "metadata": {
    "scrolled": true
   },
   "outputs": [
    {
     "data": {
      "text/plain": [
       "<AxesSubplot:>"
      ]
     },
     "execution_count": 18,
     "metadata": {},
     "output_type": "execute_result"
    },
    {
     "data": {
      "image/png": "[encoded data removed]",
      "text/plain": [
       "<Figure size 640x480 with 1 Axes>"
      ]
     },
     "metadata": {},
     "output_type": "display_data"
    }
   ],
   "source": [
    "df_inflation_enc['year'].hist()"
   ]
  },
  {
   "cell_type": "code",
   "execution_count": 19,
   "id": "f9453ca6",
   "metadata": {
    "scrolled": false
   },
   "outputs": [
    {
     "data": {
      "text/plain": [
       "<AxesSubplot:>"
      ]
     },
     "execution_count": 19,
     "metadata": {},
     "output_type": "execute_result"
    },
    {
     "data": {
      "image/png": "[encoded data removed]",
      "text/plain": [
       "<Figure size 640x480 with 1 Axes>"
      ]
     },
     "metadata": {},
     "output_type": "display_data"
    }
   ],
   "source": [
    "df_inflation_enc['inflation'].hist()"
   ]
  },
  {
   "cell_type": "markdown",
   "id": "fa979287",
   "metadata": {},
   "source": [
    "## Adding data with Kmeans\n",
    "\n",
    "In this case we will group the dataset by year and country"
   ]
  },
  {
   "cell_type": "code",
   "execution_count": 20,
   "id": "b1ebcac1",
   "metadata": {},
   "outputs": [
    {
     "name": "stderr",
     "output_type": "stream",
     "text": [
      "  File \"C:\\Users\\TUF GAMER\\anaconda3\\lib\\site-packages\\joblib\\externals\\loky\\backend\\context.py\", line 217, in _count_physical_cores\n",
      "    raise ValueError(\n"
     ]
    }
   ],
   "source": [
    "from sklearn.cluster import KMeans\n",
    "features=['country', 'year']\n",
    "\n",
    "kmeans = KMeans(n_clusters=4)\n",
    "kmeans.fit(df_inflation_enc[features])\n",
    "k_predict = kmeans.predict(df_inflation_enc[features])\n",
    "df_inflation_enc['clust_by_year_and_country'] = k_predict"
   ]
  },
  {
   "cell_type": "code",
   "execution_count": 21,
   "id": "74dd6218",
   "metadata": {},
   "outputs": [
    {
     "data": {
      "image/png": "[encoded data removed]",
      "text/plain": [
       "<Figure size 1000x1000 with 1 Axes>"
      ]
     },
     "metadata": {},
     "output_type": "display_data"
    }
   ],
   "source": [
    "fig = plt.figure(figsize=(10,10))\n",
    "\n",
    "sns.scatterplot(data=df_inflation_enc, x='country', y='year', hue='clust_by_year_and_country')\n",
    "plt.plot()\n",
    "plt.show()"
   ]
  },
  {
   "cell_type": "code",
   "execution_count": 22,
   "id": "90efdd16",
   "metadata": {},
   "outputs": [
    {
     "data": {
      "text/html": [
       "<div>\n",
       "<style scoped>\n",
       "    .dataframe tbody tr th:only-of-type {\n",
       "        vertical-align: middle;\n",
       "    }\n",
       "\n",
       "    .dataframe tbody tr th {\n",
       "        vertical-align: top;\n",
       "    }\n",
       "\n",
       "    .dataframe thead th {\n",
       "        text-align: right;\n",
       "    }\n",
       "</style>\n",
       "<table border=\"1\" class=\"dataframe\">\n",
       "  <thead>\n",
       "    <tr style=\"text-align: right;\">\n",
       "      <th></th>\n",
       "      <th>country</th>\n",
       "      <th>year</th>\n",
       "      <th>source</th>\n",
       "      <th>inflation</th>\n",
       "      <th>clust_by_year_and_country</th>\n",
       "    </tr>\n",
       "  </thead>\n",
       "  <tbody>\n",
       "    <tr>\n",
       "      <th>0</th>\n",
       "      <td>1</td>\n",
       "      <td>2022</td>\n",
       "      <td>1</td>\n",
       "      <td>3.74</td>\n",
       "      <td>3</td>\n",
       "    </tr>\n",
       "    <tr>\n",
       "      <th>1</th>\n",
       "      <td>2</td>\n",
       "      <td>2022</td>\n",
       "      <td>2</td>\n",
       "      <td>7.32</td>\n",
       "      <td>3</td>\n",
       "    </tr>\n",
       "    <tr>\n",
       "      <th>2</th>\n",
       "      <td>3</td>\n",
       "      <td>2022</td>\n",
       "      <td>3</td>\n",
       "      <td>2.90</td>\n",
       "      <td>3</td>\n",
       "    </tr>\n",
       "    <tr>\n",
       "      <th>3</th>\n",
       "      <td>4</td>\n",
       "      <td>2022</td>\n",
       "      <td>4</td>\n",
       "      <td>7.83</td>\n",
       "      <td>3</td>\n",
       "    </tr>\n",
       "    <tr>\n",
       "      <th>4</th>\n",
       "      <td>5</td>\n",
       "      <td>2022</td>\n",
       "      <td>4</td>\n",
       "      <td>3.12</td>\n",
       "      <td>3</td>\n",
       "    </tr>\n",
       "    <tr>\n",
       "      <th>...</th>\n",
       "      <td>...</td>\n",
       "      <td>...</td>\n",
       "      <td>...</td>\n",
       "      <td>...</td>\n",
       "      <td>...</td>\n",
       "    </tr>\n",
       "    <tr>\n",
       "      <th>279</th>\n",
       "      <td>10</td>\n",
       "      <td>2007</td>\n",
       "      <td>9</td>\n",
       "      <td>5.70</td>\n",
       "      <td>2</td>\n",
       "    </tr>\n",
       "    <tr>\n",
       "      <th>280</th>\n",
       "      <td>16</td>\n",
       "      <td>2007</td>\n",
       "      <td>8</td>\n",
       "      <td>8.50</td>\n",
       "      <td>2</td>\n",
       "    </tr>\n",
       "    <tr>\n",
       "      <th>281</th>\n",
       "      <td>12</td>\n",
       "      <td>2007</td>\n",
       "      <td>11</td>\n",
       "      <td>4.50</td>\n",
       "      <td>2</td>\n",
       "    </tr>\n",
       "    <tr>\n",
       "      <th>282</th>\n",
       "      <td>17</td>\n",
       "      <td>2007</td>\n",
       "      <td>19</td>\n",
       "      <td>8.50</td>\n",
       "      <td>2</td>\n",
       "    </tr>\n",
       "    <tr>\n",
       "      <th>283</th>\n",
       "      <td>18</td>\n",
       "      <td>2007</td>\n",
       "      <td>8</td>\n",
       "      <td>22.50</td>\n",
       "      <td>2</td>\n",
       "    </tr>\n",
       "  </tbody>\n",
       "</table>\n",
       "<p>284 rows × 5 columns</p>\n",
       "</div>"
      ],
      "text/plain": [
       "     country  year  source  inflation  clust_by_year_and_country\n",
       "0          1  2022       1       3.74                          3\n",
       "1          2  2022       2       7.32                          3\n",
       "2          3  2022       3       2.90                          3\n",
       "3          4  2022       4       7.83                          3\n",
       "4          5  2022       4       3.12                          3\n",
       "..       ...   ...     ...        ...                        ...\n",
       "279       10  2007       9       5.70                          2\n",
       "280       16  2007       8       8.50                          2\n",
       "281       12  2007      11       4.50                          2\n",
       "282       17  2007      19       8.50                          2\n",
       "283       18  2007       8      22.50                          2\n",
       "\n",
       "[284 rows x 5 columns]"
      ]
     },
     "execution_count": 22,
     "metadata": {},
     "output_type": "execute_result"
    }
   ],
   "source": [
    "df_inflation_enc"
   ]
  },
  {
   "cell_type": "markdown",
   "id": "2050e870",
   "metadata": {},
   "source": [
    "## Possible Outliers"
   ]
  },
  {
   "cell_type": "code",
   "execution_count": 23,
   "id": "2985b633",
   "metadata": {},
   "outputs": [
    {
     "name": "stdout",
     "output_type": "stream",
     "text": [
      "Outliers from Z-scores method:  [80002.0]\n"
     ]
    }
   ],
   "source": [
    "def detect_outliers_zscore(data):\n",
    "    outliers = []\n",
    "    thres = 3\n",
    "    mean = np.mean(data)\n",
    "    std = np.std(data)\n",
    "    for i in data:\n",
    "        z_score = (i-mean)/std\n",
    "        if (np.abs(z_score) > thres):\n",
    "            outliers.append(i)\n",
    "    return outliers# Driver code\n",
    "sample_outliers = detect_outliers_zscore(df_inflation_enc['inflation'])\n",
    "print(\"Outliers from Z-scores method: \", sample_outliers)"
   ]
  },
  {
   "cell_type": "markdown",
   "id": "1889c247",
   "metadata": {},
   "source": [
    "## Watching the Distributions"
   ]
  },
  {
   "cell_type": "code",
   "execution_count": 24,
   "id": "a5b53f82",
   "metadata": {},
   "outputs": [
    {
     "data": {
      "text/plain": [
       "<AxesSubplot:>"
      ]
     },
     "execution_count": 24,
     "metadata": {},
     "output_type": "execute_result"
    },
    {
     "data": {
      "image/png": "[encoded data removed]",
      "text/plain": [
       "<Figure size 640x480 with 1 Axes>"
      ]
     },
     "metadata": {},
     "output_type": "display_data"
    }
   ],
   "source": [
    "df_inflation_enc['inflation'].hist()"
   ]
  },
  {
   "cell_type": "code",
   "execution_count": 25,
   "id": "e8bae71d",
   "metadata": {},
   "outputs": [
    {
     "data": {
      "text/plain": [
       "<AxesSubplot:>"
      ]
     },
     "execution_count": 25,
     "metadata": {},
     "output_type": "execute_result"
    },
    {
     "data": {
      "image/png": "[encoded data removed]",
      "text/plain": [
       "<Figure size 640x480 with 1 Axes>"
      ]
     },
     "metadata": {},
     "output_type": "display_data"
    }
   ],
   "source": [
    "df_inflation_enc['inflation'].hist()"
   ]
  },
  {
   "cell_type": "code",
   "execution_count": 26,
   "id": "2ab1aabf",
   "metadata": {
    "scrolled": true
   },
   "outputs": [
    {
     "data": {
      "text/plain": [
       "<AxesSubplot:>"
      ]
     },
     "execution_count": 26,
     "metadata": {},
     "output_type": "execute_result"
    },
    {
     "data": {
      "image/png": "[encoded data removed]",
      "text/plain": [
       "<Figure size 640x480 with 1 Axes>"
      ]
     },
     "metadata": {},
     "output_type": "display_data"
    }
   ],
   "source": [
    "df_inflation_enc['year'].hist()"
   ]
  },
  {
   "cell_type": "markdown",
   "id": "b40f269a",
   "metadata": {},
   "source": [
    "## Dealing with the NaN values"
   ]
  },
  {
   "cell_type": "code",
   "execution_count": 27,
   "id": "4e9b2419",
   "metadata": {},
   "outputs": [
    {
     "data": {
      "text/html": [
       "<div>\n",
       "<style scoped>\n",
       "    .dataframe tbody tr th:only-of-type {\n",
       "        vertical-align: middle;\n",
       "    }\n",
       "\n",
       "    .dataframe tbody tr th {\n",
       "        vertical-align: top;\n",
       "    }\n",
       "\n",
       "    .dataframe thead th {\n",
       "        text-align: right;\n",
       "    }\n",
       "</style>\n",
       "<table border=\"1\" class=\"dataframe\">\n",
       "  <thead>\n",
       "    <tr style=\"text-align: right;\">\n",
       "      <th></th>\n",
       "      <th>variable</th>\n",
       "      <th>n_missing</th>\n",
       "      <th>n_cases</th>\n",
       "      <th>pct_missing</th>\n",
       "    </tr>\n",
       "  </thead>\n",
       "  <tbody>\n",
       "    <tr>\n",
       "      <th>0</th>\n",
       "      <td>country</td>\n",
       "      <td>0</td>\n",
       "      <td>284</td>\n",
       "      <td>0.000000</td>\n",
       "    </tr>\n",
       "    <tr>\n",
       "      <th>1</th>\n",
       "      <td>year</td>\n",
       "      <td>0</td>\n",
       "      <td>284</td>\n",
       "      <td>0.000000</td>\n",
       "    </tr>\n",
       "    <tr>\n",
       "      <th>2</th>\n",
       "      <td>source</td>\n",
       "      <td>0</td>\n",
       "      <td>284</td>\n",
       "      <td>0.000000</td>\n",
       "    </tr>\n",
       "    <tr>\n",
       "      <th>3</th>\n",
       "      <td>inflation</td>\n",
       "      <td>1</td>\n",
       "      <td>284</td>\n",
       "      <td>0.352113</td>\n",
       "    </tr>\n",
       "    <tr>\n",
       "      <th>4</th>\n",
       "      <td>clust_by_year_and_country</td>\n",
       "      <td>0</td>\n",
       "      <td>284</td>\n",
       "      <td>0.000000</td>\n",
       "    </tr>\n",
       "  </tbody>\n",
       "</table>\n",
       "</div>"
      ],
      "text/plain": [
       "                    variable  n_missing  n_cases  pct_missing\n",
       "0                    country          0      284     0.000000\n",
       "1                       year          0      284     0.000000\n",
       "2                     source          0      284     0.000000\n",
       "3                  inflation          1      284     0.352113\n",
       "4  clust_by_year_and_country          0      284     0.000000"
      ]
     },
     "execution_count": 27,
     "metadata": {},
     "output_type": "execute_result"
    }
   ],
   "source": [
    "df_inflation_enc.missing.missing_variable_summary()"
   ]
  },
  {
   "cell_type": "code",
   "execution_count": 28,
   "id": "1134042d",
   "metadata": {},
   "outputs": [],
   "source": [
    "df_inflation_enc.dropna(inplace=True)"
   ]
  },
  {
   "cell_type": "code",
   "execution_count": 29,
   "id": "23803847",
   "metadata": {},
   "outputs": [
    {
     "data": {
      "image/png": "[encoded data removed]",
      "text/plain": [
       "<Figure size 1500x1000 with 2 Axes>"
      ]
     },
     "metadata": {},
     "output_type": "display_data"
    }
   ],
   "source": [
    "# Let's see the correlation\n",
    "fig = plt.figure(figsize=(15,10))\n",
    "sns.heatmap(df_inflation_enc.corr(), annot=True, cmap='coolwarm')\n",
    "plt.show()"
   ]
  },
  {
   "cell_type": "markdown",
   "id": "b5c0c733",
   "metadata": {},
   "source": [
    "## Pre-procesing of data"
   ]
  },
  {
   "cell_type": "code",
   "execution_count": 30,
   "id": "d2849ba6",
   "metadata": {},
   "outputs": [],
   "source": [
    "# Separate in X and y\n",
    "X = df_inflation_enc.drop(['inflation'], axis=1)\n",
    "y = df_inflation_enc['inflation']"
   ]
  },
  {
   "cell_type": "code",
   "execution_count": 31,
   "id": "456ec0b9",
   "metadata": {
    "scrolled": true
   },
   "outputs": [],
   "source": [
    "# 30% for test and 70% for train\n",
    "X_train, X_test, y_train, y_test = train_test_split(X, y, test_size=0.30, random_state=42)"
   ]
  },
  {
   "cell_type": "markdown",
   "id": "148f8b42",
   "metadata": {},
   "source": [
    "### Scaling data"
   ]
  },
  {
   "cell_type": "code",
   "execution_count": 32,
   "id": "b0383e9f",
   "metadata": {},
   "outputs": [],
   "source": [
    "#Scaling numeric features using sklearn StandardScalar\n",
    "numeric=['year']\n",
    "sc=MinMaxScaler()\n",
    "X_train[numeric]=sc.fit_transform(X_train[numeric])\n",
    "X_test[numeric]=sc.transform(X_test[numeric])"
   ]
  },
  {
   "cell_type": "code",
   "execution_count": 33,
   "id": "3c3752f1",
   "metadata": {
    "scrolled": true
   },
   "outputs": [
    {
     "data": {
      "text/html": [
       "<div>\n",
       "<style scoped>\n",
       "    .dataframe tbody tr th:only-of-type {\n",
       "        vertical-align: middle;\n",
       "    }\n",
       "\n",
       "    .dataframe tbody tr th {\n",
       "        vertical-align: top;\n",
       "    }\n",
       "\n",
       "    .dataframe thead th {\n",
       "        text-align: right;\n",
       "    }\n",
       "</style>\n",
       "<table border=\"1\" class=\"dataframe\">\n",
       "  <thead>\n",
       "    <tr style=\"text-align: right;\">\n",
       "      <th></th>\n",
       "      <th>country</th>\n",
       "      <th>year</th>\n",
       "      <th>source</th>\n",
       "      <th>clust_by_year_and_country</th>\n",
       "    </tr>\n",
       "  </thead>\n",
       "  <tbody>\n",
       "    <tr>\n",
       "      <th>273</th>\n",
       "      <td>5</td>\n",
       "      <td>0.000000</td>\n",
       "      <td>4</td>\n",
       "      <td>1</td>\n",
       "    </tr>\n",
       "    <tr>\n",
       "      <th>181</th>\n",
       "      <td>3</td>\n",
       "      <td>0.333333</td>\n",
       "      <td>3</td>\n",
       "      <td>1</td>\n",
       "    </tr>\n",
       "    <tr>\n",
       "      <th>56</th>\n",
       "      <td>3</td>\n",
       "      <td>0.800000</td>\n",
       "      <td>3</td>\n",
       "      <td>3</td>\n",
       "    </tr>\n",
       "    <tr>\n",
       "      <th>113</th>\n",
       "      <td>14</td>\n",
       "      <td>0.600000</td>\n",
       "      <td>13</td>\n",
       "      <td>0</td>\n",
       "    </tr>\n",
       "    <tr>\n",
       "      <th>220</th>\n",
       "      <td>4</td>\n",
       "      <td>0.200000</td>\n",
       "      <td>4</td>\n",
       "      <td>1</td>\n",
       "    </tr>\n",
       "    <tr>\n",
       "      <th>...</th>\n",
       "      <td>...</td>\n",
       "      <td>...</td>\n",
       "      <td>...</td>\n",
       "      <td>...</td>\n",
       "    </tr>\n",
       "    <tr>\n",
       "      <th>189</th>\n",
       "      <td>11</td>\n",
       "      <td>0.333333</td>\n",
       "      <td>10</td>\n",
       "      <td>2</td>\n",
       "    </tr>\n",
       "    <tr>\n",
       "      <th>72</th>\n",
       "      <td>1</td>\n",
       "      <td>0.733333</td>\n",
       "      <td>1</td>\n",
       "      <td>3</td>\n",
       "    </tr>\n",
       "    <tr>\n",
       "      <th>107</th>\n",
       "      <td>18</td>\n",
       "      <td>0.666667</td>\n",
       "      <td>16</td>\n",
       "      <td>0</td>\n",
       "    </tr>\n",
       "    <tr>\n",
       "      <th>271</th>\n",
       "      <td>15</td>\n",
       "      <td>0.000000</td>\n",
       "      <td>14</td>\n",
       "      <td>2</td>\n",
       "    </tr>\n",
       "    <tr>\n",
       "      <th>103</th>\n",
       "      <td>13</td>\n",
       "      <td>0.666667</td>\n",
       "      <td>12</td>\n",
       "      <td>0</td>\n",
       "    </tr>\n",
       "  </tbody>\n",
       "</table>\n",
       "<p>198 rows × 4 columns</p>\n",
       "</div>"
      ],
      "text/plain": [
       "     country      year  source  clust_by_year_and_country\n",
       "273        5  0.000000       4                          1\n",
       "181        3  0.333333       3                          1\n",
       "56         3  0.800000       3                          3\n",
       "113       14  0.600000      13                          0\n",
       "220        4  0.200000       4                          1\n",
       "..       ...       ...     ...                        ...\n",
       "189       11  0.333333      10                          2\n",
       "72         1  0.733333       1                          3\n",
       "107       18  0.666667      16                          0\n",
       "271       15  0.000000      14                          2\n",
       "103       13  0.666667      12                          0\n",
       "\n",
       "[198 rows x 4 columns]"
      ]
     },
     "execution_count": 33,
     "metadata": {},
     "output_type": "execute_result"
    }
   ],
   "source": [
    "X_train"
   ]
  },
  {
   "cell_type": "code",
   "execution_count": 34,
   "id": "8225aebf",
   "metadata": {
    "scrolled": true
   },
   "outputs": [
    {
     "data": {
      "text/html": [
       "<div>\n",
       "<style scoped>\n",
       "    .dataframe tbody tr th:only-of-type {\n",
       "        vertical-align: middle;\n",
       "    }\n",
       "\n",
       "    .dataframe tbody tr th {\n",
       "        vertical-align: top;\n",
       "    }\n",
       "\n",
       "    .dataframe thead th {\n",
       "        text-align: right;\n",
       "    }\n",
       "</style>\n",
       "<table border=\"1\" class=\"dataframe\">\n",
       "  <thead>\n",
       "    <tr style=\"text-align: right;\">\n",
       "      <th></th>\n",
       "      <th>country</th>\n",
       "      <th>year</th>\n",
       "      <th>source</th>\n",
       "      <th>clust_by_year_and_country</th>\n",
       "    </tr>\n",
       "  </thead>\n",
       "  <tbody>\n",
       "    <tr>\n",
       "      <th>9</th>\n",
       "      <td>10</td>\n",
       "      <td>1.000000</td>\n",
       "      <td>9</td>\n",
       "      <td>0</td>\n",
       "    </tr>\n",
       "    <tr>\n",
       "      <th>247</th>\n",
       "      <td>10</td>\n",
       "      <td>0.133333</td>\n",
       "      <td>9</td>\n",
       "      <td>2</td>\n",
       "    </tr>\n",
       "    <tr>\n",
       "      <th>140</th>\n",
       "      <td>16</td>\n",
       "      <td>0.533333</td>\n",
       "      <td>8</td>\n",
       "      <td>0</td>\n",
       "    </tr>\n",
       "    <tr>\n",
       "      <th>208</th>\n",
       "      <td>1</td>\n",
       "      <td>0.266667</td>\n",
       "      <td>1</td>\n",
       "      <td>1</td>\n",
       "    </tr>\n",
       "    <tr>\n",
       "      <th>76</th>\n",
       "      <td>5</td>\n",
       "      <td>0.733333</td>\n",
       "      <td>4</td>\n",
       "      <td>3</td>\n",
       "    </tr>\n",
       "    <tr>\n",
       "      <th>...</th>\n",
       "      <td>...</td>\n",
       "      <td>...</td>\n",
       "      <td>...</td>\n",
       "      <td>...</td>\n",
       "    </tr>\n",
       "    <tr>\n",
       "      <th>19</th>\n",
       "      <td>2</td>\n",
       "      <td>0.933333</td>\n",
       "      <td>2</td>\n",
       "      <td>3</td>\n",
       "    </tr>\n",
       "    <tr>\n",
       "      <th>118</th>\n",
       "      <td>1</td>\n",
       "      <td>0.600000</td>\n",
       "      <td>1</td>\n",
       "      <td>3</td>\n",
       "    </tr>\n",
       "    <tr>\n",
       "      <th>275</th>\n",
       "      <td>11</td>\n",
       "      <td>0.000000</td>\n",
       "      <td>10</td>\n",
       "      <td>2</td>\n",
       "    </tr>\n",
       "    <tr>\n",
       "      <th>85</th>\n",
       "      <td>14</td>\n",
       "      <td>0.733333</td>\n",
       "      <td>13</td>\n",
       "      <td>0</td>\n",
       "    </tr>\n",
       "    <tr>\n",
       "      <th>166</th>\n",
       "      <td>4</td>\n",
       "      <td>0.400000</td>\n",
       "      <td>4</td>\n",
       "      <td>1</td>\n",
       "    </tr>\n",
       "  </tbody>\n",
       "</table>\n",
       "<p>85 rows × 4 columns</p>\n",
       "</div>"
      ],
      "text/plain": [
       "     country      year  source  clust_by_year_and_country\n",
       "9         10  1.000000       9                          0\n",
       "247       10  0.133333       9                          2\n",
       "140       16  0.533333       8                          0\n",
       "208        1  0.266667       1                          1\n",
       "76         5  0.733333       4                          3\n",
       "..       ...       ...     ...                        ...\n",
       "19         2  0.933333       2                          3\n",
       "118        1  0.600000       1                          3\n",
       "275       11  0.000000      10                          2\n",
       "85        14  0.733333      13                          0\n",
       "166        4  0.400000       4                          1\n",
       "\n",
       "[85 rows x 4 columns]"
      ]
     },
     "execution_count": 34,
     "metadata": {},
     "output_type": "execute_result"
    }
   ],
   "source": [
    "X_test"
   ]
  },
  {
   "cell_type": "markdown",
   "id": "86b1b6a9",
   "metadata": {},
   "source": [
    "## Training the model"
   ]
  },
  {
   "cell_type": "code",
   "execution_count": 35,
   "id": "34d8a7aa",
   "metadata": {},
   "outputs": [
    {
     "name": "stdout",
     "output_type": "stream",
     "text": [
      "Fitting 10 folds for each of 2 candidates, totalling 20 fits\n",
      "[CV] END criterion=squared_error, max_depth=14, max_features=1, random_state=42; total time=   0.0s\n",
      "[CV] END criterion=squared_error, max_depth=14, max_features=1, random_state=42; total time=   0.0s\n",
      "[CV] END criterion=squared_error, max_depth=14, max_features=1, random_state=42; total time=   0.0s\n",
      "[CV] END criterion=squared_error, max_depth=14, max_features=1, random_state=42; total time=   0.0s\n",
      "[CV] END criterion=squared_error, max_depth=14, max_features=1, random_state=42; total time=   0.0s\n",
      "[CV] END criterion=squared_error, max_depth=14, max_features=1, random_state=42; total time=   0.0s\n",
      "[CV] END criterion=squared_error, max_depth=14, max_features=1, random_state=42; total time=   0.0s\n",
      "[CV] END criterion=squared_error, max_depth=14, max_features=1, random_state=42; total time=   0.0s\n",
      "[CV] END criterion=squared_error, max_depth=14, max_features=1, random_state=42; total time=   0.0s\n",
      "[CV] END criterion=squared_error, max_depth=14, max_features=1, random_state=42; total time=   0.0s\n",
      "[CV] END criterion=friedman_mse, max_depth=14, max_features=1, random_state=42; total time=   0.0s\n",
      "[CV] END criterion=friedman_mse, max_depth=14, max_features=1, random_state=42; total time=   0.0s\n",
      "[CV] END criterion=friedman_mse, max_depth=14, max_features=1, random_state=42; total time=   0.0s\n",
      "[CV] END criterion=friedman_mse, max_depth=14, max_features=1, random_state=42; total time=   0.0s\n",
      "[CV] END criterion=friedman_mse, max_depth=14, max_features=1, random_state=42; total time=   0.0s\n",
      "[CV] END criterion=friedman_mse, max_depth=14, max_features=1, random_state=42; total time=   0.0s\n",
      "[CV] END criterion=friedman_mse, max_depth=14, max_features=1, random_state=42; total time=   0.0s\n",
      "[CV] END criterion=friedman_mse, max_depth=14, max_features=1, random_state=42; total time=   0.0s\n",
      "[CV] END criterion=friedman_mse, max_depth=14, max_features=1, random_state=42; total time=   0.0s\n",
      "[CV] END criterion=friedman_mse, max_depth=14, max_features=1, random_state=42; total time=   0.0s\n"
     ]
    },
    {
     "data": {
      "text/html": [
       "<style>#sk-container-id-1 {color: black;}#sk-container-id-1 pre{padding: 0;}#sk-container-id-1 div.sk-toggleable {background-color: white;}#sk-container-id-1 label.sk-toggleable__label {cursor: pointer;display: block;width: 100%;margin-bottom: 0;padding: 0.3em;box-sizing: border-box;text-align: center;}#sk-container-id-1 label.sk-toggleable__label-arrow:before {content: \"▸\";float: left;margin-right: 0.25em;color: #696969;}#sk-container-id-1 label.sk-toggleable__label-arrow:hover:before {color: black;}#sk-container-id-1 div.sk-estimator:hover label.sk-toggleable__label-arrow:before {color: black;}#sk-container-id-1 div.sk-toggleable__content {max-height: 0;max-width: 0;overflow: hidden;text-align: left;background-color: #f0f8ff;}#sk-container-id-1 div.sk-toggleable__content pre {margin: 0.2em;color: black;border-radius: 0.25em;background-color: #f0f8ff;}#sk-container-id-1 input.sk-toggleable__control:checked~div.sk-toggleable__content {max-height: 200px;max-width: 100%;overflow: auto;}#sk-container-id-1 input.sk-toggleable__control:checked~label.sk-toggleable__label-arrow:before {content: \"▾\";}#sk-container-id-1 div.sk-estimator input.sk-toggleable__control:checked~label.sk-toggleable__label {background-color: #d4ebff;}#sk-container-id-1 div.sk-label input.sk-toggleable__control:checked~label.sk-toggleable__label {background-color: #d4ebff;}#sk-container-id-1 input.sk-hidden--visually {border: 0;clip: rect(1px 1px 1px 1px);clip: rect(1px, 1px, 1px, 1px);height: 1px;margin: -1px;overflow: hidden;padding: 0;position: absolute;width: 1px;}#sk-container-id-1 div.sk-estimator {font-family: monospace;background-color: #f0f8ff;border: 1px dotted black;border-radius: 0.25em;box-sizing: border-box;margin-bottom: 0.5em;}#sk-container-id-1 div.sk-estimator:hover {background-color: #d4ebff;}#sk-container-id-1 div.sk-parallel-item::after {content: \"\";width: 100%;border-bottom: 1px solid gray;flex-grow: 1;}#sk-container-id-1 div.sk-label:hover label.sk-toggleable__label {background-color: #d4ebff;}#sk-container-id-1 div.sk-serial::before {content: \"\";position: absolute;border-left: 1px solid gray;box-sizing: border-box;top: 0;bottom: 0;left: 50%;z-index: 0;}#sk-container-id-1 div.sk-serial {display: flex;flex-direction: column;align-items: center;background-color: white;padding-right: 0.2em;padding-left: 0.2em;position: relative;}#sk-container-id-1 div.sk-item {position: relative;z-index: 1;}#sk-container-id-1 div.sk-parallel {display: flex;align-items: stretch;justify-content: center;background-color: white;position: relative;}#sk-container-id-1 div.sk-item::before, #sk-container-id-1 div.sk-parallel-item::before {content: \"\";position: absolute;border-left: 1px solid gray;box-sizing: border-box;top: 0;bottom: 0;left: 50%;z-index: -1;}#sk-container-id-1 div.sk-parallel-item {display: flex;flex-direction: column;z-index: 1;position: relative;background-color: white;}#sk-container-id-1 div.sk-parallel-item:first-child::after {align-self: flex-end;width: 50%;}#sk-container-id-1 div.sk-parallel-item:last-child::after {align-self: flex-start;width: 50%;}#sk-container-id-1 div.sk-parallel-item:only-child::after {width: 0;}#sk-container-id-1 div.sk-dashed-wrapped {border: 1px dashed gray;margin: 0 0.4em 0.5em 0.4em;box-sizing: border-box;padding-bottom: 0.4em;background-color: white;}#sk-container-id-1 div.sk-label label {font-family: monospace;font-weight: bold;display: inline-block;line-height: 1.2em;}#sk-container-id-1 div.sk-label-container {text-align: center;}#sk-container-id-1 div.sk-container {/* jupyter's `normalize.less` sets `[hidden] { display: none; }` but bootstrap.min.css set `[hidden] { display: none !important; }` so we also need the `!important` here to be able to override the default hidden behavior on the sphinx rendered scikit-learn.org. See: https://github.com/scikit-learn/scikit-learn/issues/21755 */display: inline-block !important;position: relative;}#sk-container-id-1 div.sk-text-repr-fallback {display: none;}</style><div id=\"sk-container-id-1\" class=\"sk-top-container\"><div class=\"sk-text-repr-fallback\"><pre>GridSearchCV(cv=10, estimator=DecisionTreeRegressor(),\n",
       "             param_grid={&#x27;criterion&#x27;: [&#x27;squared_error&#x27;, &#x27;friedman_mse&#x27;],\n",
       "                         &#x27;max_depth&#x27;: [14], &#x27;max_features&#x27;: [1],\n",
       "                         &#x27;random_state&#x27;: [42]},\n",
       "             scoring=&#x27;neg_mean_absolute_error&#x27;, verbose=2)</pre><b>In a Jupyter environment, please rerun this cell to show the HTML representation or trust the notebook. <br />On GitHub, the HTML representation is unable to render, please try loading this page with nbviewer.org.</b></div><div class=\"sk-container\" hidden><div class=\"sk-item sk-dashed-wrapped\"><div class=\"sk-label-container\"><div class=\"sk-label sk-toggleable\"><input class=\"sk-toggleable__control sk-hidden--visually\" id=\"sk-estimator-id-1\" type=\"checkbox\" ><label for=\"sk-estimator-id-1\" class=\"sk-toggleable__label sk-toggleable__label-arrow\">GridSearchCV</label><div class=\"sk-toggleable__content\"><pre>GridSearchCV(cv=10, estimator=DecisionTreeRegressor(),\n",
       "             param_grid={&#x27;criterion&#x27;: [&#x27;squared_error&#x27;, &#x27;friedman_mse&#x27;],\n",
       "                         &#x27;max_depth&#x27;: [14], &#x27;max_features&#x27;: [1],\n",
       "                         &#x27;random_state&#x27;: [42]},\n",
       "             scoring=&#x27;neg_mean_absolute_error&#x27;, verbose=2)</pre></div></div></div><div class=\"sk-parallel\"><div class=\"sk-parallel-item\"><div class=\"sk-item\"><div class=\"sk-label-container\"><div class=\"sk-label sk-toggleable\"><input class=\"sk-toggleable__control sk-hidden--visually\" id=\"sk-estimator-id-2\" type=\"checkbox\" ><label for=\"sk-estimator-id-2\" class=\"sk-toggleable__label sk-toggleable__label-arrow\">estimator: DecisionTreeRegressor</label><div class=\"sk-toggleable__content\"><pre>DecisionTreeRegressor()</pre></div></div></div><div class=\"sk-serial\"><div class=\"sk-item\"><div class=\"sk-estimator sk-toggleable\"><input class=\"sk-toggleable__control sk-hidden--visually\" id=\"sk-estimator-id-3\" type=\"checkbox\" ><label for=\"sk-estimator-id-3\" class=\"sk-toggleable__label sk-toggleable__label-arrow\">DecisionTreeRegressor</label><div class=\"sk-toggleable__content\"><pre>DecisionTreeRegressor()</pre></div></div></div></div></div></div></div></div></div></div>"
      ],
      "text/plain": [
       "GridSearchCV(cv=10, estimator=DecisionTreeRegressor(),\n",
       "             param_grid={'criterion': ['squared_error', 'friedman_mse'],\n",
       "                         'max_depth': [14], 'max_features': [1],\n",
       "                         'random_state': [42]},\n",
       "             scoring='neg_mean_absolute_error', verbose=2)"
      ]
     },
     "execution_count": 35,
     "metadata": {},
     "output_type": "execute_result"
    }
   ],
   "source": [
    "# Parameter grid\n",
    "parameters = {\n",
    "    'criterion': ['squared_error', 'friedman_mse'],\n",
    "    'max_depth': [14],\n",
    "    'max_features': [1],\n",
    "    'random_state': [42]\n",
    "}\n",
    "\n",
    "clf = GridSearchCV(\n",
    "    DecisionTreeRegressor(),\n",
    "    param_grid=parameters,\n",
    "    scoring='neg_mean_absolute_error',\n",
    "    cv=10,\n",
    "    verbose=2\n",
    ")\n",
    "\n",
    "clf.fit(X_train, y_train)"
   ]
  },
  {
   "cell_type": "code",
   "execution_count": 36,
   "id": "58cb476c",
   "metadata": {
    "scrolled": true
   },
   "outputs": [
    {
     "name": "stdout",
     "output_type": "stream",
     "text": [
      "Best hyperparameters:  {'criterion': 'friedman_mse', 'max_depth': 14, 'max_features': 1, 'random_state': 42}\n",
      "Best score:  -1216.0433616959065\n"
     ]
    }
   ],
   "source": [
    "# Printing the best accuracy and hyperparameters in the model\n",
    "print(\"Best hyperparameters: \", clf.best_params_)\n",
    "print(\"Best score: \", clf.best_score_)"
   ]
  },
  {
   "cell_type": "code",
   "execution_count": 37,
   "id": "c88dea1d",
   "metadata": {
    "scrolled": false
   },
   "outputs": [
    {
     "data": {
      "text/html": [
       "<style>#sk-container-id-2 {color: black;}#sk-container-id-2 pre{padding: 0;}#sk-container-id-2 div.sk-toggleable {background-color: white;}#sk-container-id-2 label.sk-toggleable__label {cursor: pointer;display: block;width: 100%;margin-bottom: 0;padding: 0.3em;box-sizing: border-box;text-align: center;}#sk-container-id-2 label.sk-toggleable__label-arrow:before {content: \"▸\";float: left;margin-right: 0.25em;color: #696969;}#sk-container-id-2 label.sk-toggleable__label-arrow:hover:before {color: black;}#sk-container-id-2 div.sk-estimator:hover label.sk-toggleable__label-arrow:before {color: black;}#sk-container-id-2 div.sk-toggleable__content {max-height: 0;max-width: 0;overflow: hidden;text-align: left;background-color: #f0f8ff;}#sk-container-id-2 div.sk-toggleable__content pre {margin: 0.2em;color: black;border-radius: 0.25em;background-color: #f0f8ff;}#sk-container-id-2 input.sk-toggleable__control:checked~div.sk-toggleable__content {max-height: 200px;max-width: 100%;overflow: auto;}#sk-container-id-2 input.sk-toggleable__control:checked~label.sk-toggleable__label-arrow:before {content: \"▾\";}#sk-container-id-2 div.sk-estimator input.sk-toggleable__control:checked~label.sk-toggleable__label {background-color: #d4ebff;}#sk-container-id-2 div.sk-label input.sk-toggleable__control:checked~label.sk-toggleable__label {background-color: #d4ebff;}#sk-container-id-2 input.sk-hidden--visually {border: 0;clip: rect(1px 1px 1px 1px);clip: rect(1px, 1px, 1px, 1px);height: 1px;margin: -1px;overflow: hidden;padding: 0;position: absolute;width: 1px;}#sk-container-id-2 div.sk-estimator {font-family: monospace;background-color: #f0f8ff;border: 1px dotted black;border-radius: 0.25em;box-sizing: border-box;margin-bottom: 0.5em;}#sk-container-id-2 div.sk-estimator:hover {background-color: #d4ebff;}#sk-container-id-2 div.sk-parallel-item::after {content: \"\";width: 100%;border-bottom: 1px solid gray;flex-grow: 1;}#sk-container-id-2 div.sk-label:hover label.sk-toggleable__label {background-color: #d4ebff;}#sk-container-id-2 div.sk-serial::before {content: \"\";position: absolute;border-left: 1px solid gray;box-sizing: border-box;top: 0;bottom: 0;left: 50%;z-index: 0;}#sk-container-id-2 div.sk-serial {display: flex;flex-direction: column;align-items: center;background-color: white;padding-right: 0.2em;padding-left: 0.2em;position: relative;}#sk-container-id-2 div.sk-item {position: relative;z-index: 1;}#sk-container-id-2 div.sk-parallel {display: flex;align-items: stretch;justify-content: center;background-color: white;position: relative;}#sk-container-id-2 div.sk-item::before, #sk-container-id-2 div.sk-parallel-item::before {content: \"\";position: absolute;border-left: 1px solid gray;box-sizing: border-box;top: 0;bottom: 0;left: 50%;z-index: -1;}#sk-container-id-2 div.sk-parallel-item {display: flex;flex-direction: column;z-index: 1;position: relative;background-color: white;}#sk-container-id-2 div.sk-parallel-item:first-child::after {align-self: flex-end;width: 50%;}#sk-container-id-2 div.sk-parallel-item:last-child::after {align-self: flex-start;width: 50%;}#sk-container-id-2 div.sk-parallel-item:only-child::after {width: 0;}#sk-container-id-2 div.sk-dashed-wrapped {border: 1px dashed gray;margin: 0 0.4em 0.5em 0.4em;box-sizing: border-box;padding-bottom: 0.4em;background-color: white;}#sk-container-id-2 div.sk-label label {font-family: monospace;font-weight: bold;display: inline-block;line-height: 1.2em;}#sk-container-id-2 div.sk-label-container {text-align: center;}#sk-container-id-2 div.sk-container {/* jupyter's `normalize.less` sets `[hidden] { display: none; }` but bootstrap.min.css set `[hidden] { display: none !important; }` so we also need the `!important` here to be able to override the default hidden behavior on the sphinx rendered scikit-learn.org. See: https://github.com/scikit-learn/scikit-learn/issues/21755 */display: inline-block !important;position: relative;}#sk-container-id-2 div.sk-text-repr-fallback {display: none;}</style><div id=\"sk-container-id-2\" class=\"sk-top-container\"><div class=\"sk-text-repr-fallback\"><pre>DecisionTreeRegressor(criterion=&#x27;friedman_mse&#x27;, max_depth=14, max_features=1,\n",
       "                      random_state=42)</pre><b>In a Jupyter environment, please rerun this cell to show the HTML representation or trust the notebook. <br />On GitHub, the HTML representation is unable to render, please try loading this page with nbviewer.org.</b></div><div class=\"sk-container\" hidden><div class=\"sk-item\"><div class=\"sk-estimator sk-toggleable\"><input class=\"sk-toggleable__control sk-hidden--visually\" id=\"sk-estimator-id-4\" type=\"checkbox\" checked><label for=\"sk-estimator-id-4\" class=\"sk-toggleable__label sk-toggleable__label-arrow\">DecisionTreeRegressor</label><div class=\"sk-toggleable__content\"><pre>DecisionTreeRegressor(criterion=&#x27;friedman_mse&#x27;, max_depth=14, max_features=1,\n",
       "                      random_state=42)</pre></div></div></div></div></div>"
      ],
      "text/plain": [
       "DecisionTreeRegressor(criterion='friedman_mse', max_depth=14, max_features=1,\n",
       "                      random_state=42)"
      ]
     },
     "execution_count": 37,
     "metadata": {},
     "output_type": "execute_result"
    }
   ],
   "source": [
    "best_tree_car = clf.best_estimator_\n",
    "best_tree_car.fit(X_train, y_train)"
   ]
  },
  {
   "cell_type": "code",
   "execution_count": 38,
   "id": "133976c1",
   "metadata": {
    "scrolled": true
   },
   "outputs": [
    {
     "name": "stdout",
     "output_type": "stream",
     "text": [
      "MSE of Train data:  0.10518728956228957\n",
      "MSE of Test data:  154.67497728758164\n"
     ]
    }
   ],
   "source": [
    "# Prediction\n",
    "y_train_pred = best_tree_car.predict(X_train)\n",
    "y_test_pred = best_tree_car.predict(X_test)\n",
    "\n",
    "# Print the score\n",
    "print(\"MSE of Train data: \", mean_squared_error(y_train, y_train_pred))\n",
    "print(\"MSE of Test data: \", mean_squared_error(y_test, y_test_pred))"
   ]
  },
  {
   "cell_type": "code",
   "execution_count": 39,
   "id": "482e9446",
   "metadata": {
    "scrolled": false
   },
   "outputs": [
    {
     "name": "stdout",
     "output_type": "stream",
     "text": [
      "R2 of Train data:  0.9999999967584893\n",
      "R2 of Test data:  0.8405496338765693\n"
     ]
    }
   ],
   "source": [
    "print(\"R2 of Train data: \", r2_score(y_train, y_train_pred))\n",
    "print(\"R2 of Test data: \", r2_score(y_test, y_test_pred))"
   ]
  },
  {
   "cell_type": "markdown",
   "id": "2e321a1b",
   "metadata": {},
   "source": [
    "### The model is overfitting, but with brand new data the perfomance is acceptable"
   ]
  },
  {
   "cell_type": "markdown",
   "id": "02fff571",
   "metadata": {},
   "source": [
    "## Storing the model"
   ]
  },
  {
   "cell_type": "code",
   "execution_count": 41,
   "id": "b55b1f08",
   "metadata": {},
   "outputs": [
    {
     "data": {
      "text/plain": [
       "['./models/inflation_model.plk']"
      ]
     },
     "execution_count": 41,
     "metadata": {},
     "output_type": "execute_result"
    }
   ],
   "source": [
    "joblib.dump(best_tree_car, './models/inflation_model.plk')"
   ]
  }
 ],
 "metadata": {
  "kernelspec": {
   "display_name": "Python 3 (ipykernel)",
   "language": "python",
   "name": "python3"
  },
  "language_info": {
   "codemirror_mode": {
    "name": "ipython",
    "version": 3
   },
   "file_extension": ".py",
   "mimetype": "text/x-python",
   "name": "python",
   "nbconvert_exporter": "python",
   "pygments_lexer": "ipython3",
   "version": "3.8.8"
  }
 },
 "nbformat": 4,
 "nbformat_minor": 5
}
